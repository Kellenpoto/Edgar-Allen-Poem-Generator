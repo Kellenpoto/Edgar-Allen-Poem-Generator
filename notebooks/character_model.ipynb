{
 "cells": [
  {
   "cell_type": "code",
   "execution_count": 3,
   "source": [
    "import pandas as pd\n",
    "import numpy as np\n",
    "import matplotlib.pyplot as plt\n",
    "import tensorflow as tf\n",
    "from tensorflow import keras\n",
    "import os\n",
    "os.chdir('..')\n",
    "from src import utils as ut\n",
    "os.chdir('notebooks')\n",
    "\n",
    "from tensorflow.keras.preprocessing.text import Tokenizer\n",
    "from tensorflow.keras.preprocessing.sequence import pad_sequences\n",
    "from tensorflow.keras.utils import to_categorical\n",
    "from tensorflow.keras.callbacks import EarlyStopping, ModelCheckpoint\n",
    "from tensorflow.keras.layers import Dropout, LSTM, Dense, Embedding"
   ],
   "outputs": [],
   "metadata": {}
  },
  {
   "cell_type": "code",
   "execution_count": 4,
   "source": [
    "texts = ut.load_text_data('../data/preprocessed_data.csv')\n",
    "encoded, char_idx = ut.encode_characters(texts)\n",
    "num_characters = len(char_idx) +1\n",
    "n_prev = 100"
   ],
   "outputs": [],
   "metadata": {}
  },
  {
   "cell_type": "code",
   "execution_count": 5,
   "source": [
    "X_train, X_test, y_train, y_test = ut.get_train_test_split(encoded,n_prev)\n",
    "y_train = to_categorical(y_train, num_classes = num_characters)\n",
    "y_test = to_categorical(y_test, num_classes = num_characters)"
   ],
   "outputs": [],
   "metadata": {}
  },
  {
   "cell_type": "code",
   "execution_count": 19,
   "source": [
    "X_train[0].shape"
   ],
   "outputs": [
    {
     "output_type": "execute_result",
     "data": {
      "text/plain": [
       "(100,)"
      ]
     },
     "metadata": {},
     "execution_count": 19
    }
   ],
   "metadata": {}
  },
  {
   "cell_type": "code",
   "execution_count": 13,
   "source": [
    "X_train.shape"
   ],
   "outputs": [
    {
     "output_type": "execute_result",
     "data": {
      "text/plain": [
       "(1323228, 100)"
      ]
     },
     "metadata": {},
     "execution_count": 13
    }
   ],
   "metadata": {}
  },
  {
   "cell_type": "code",
   "execution_count": 18,
   "source": [
    "y_train[0].shape"
   ],
   "outputs": [
    {
     "output_type": "execute_result",
     "data": {
      "text/plain": [
       "(103,)"
      ]
     },
     "metadata": {},
     "execution_count": 18
    }
   ],
   "metadata": {}
  },
  {
   "cell_type": "code",
   "execution_count": 12,
   "source": [
    "y_train.shape"
   ],
   "outputs": [
    {
     "output_type": "execute_result",
     "data": {
      "text/plain": [
       "(1323228, 103)"
      ]
     },
     "metadata": {},
     "execution_count": 12
    }
   ],
   "metadata": {}
  },
  {
   "cell_type": "code",
   "execution_count": 4,
   "source": [
    "model = ut.create_model(num_characters, n_prev)"
   ],
   "outputs": [],
   "metadata": {}
  },
  {
   "cell_type": "code",
   "execution_count": 5,
   "source": [
    "for i in range(50):\n",
    "    model.fit(X_train, y_train, epochs=10, batch_size=32, validation_data=(X_test, y_test))\n",
    "    model.save(f'../models/character_model_{10*(i+1)}_epochs.h5')"
   ],
   "outputs": [
    {
     "output_type": "stream",
     "name": "stdout",
     "text": [
      "Epoch 1/10\n",
      "41351/41351 [==============================] - 6738s 163ms/step - loss: 2.3050 - accuracy: 0.3458 - val_loss: 2.0069 - val_accuracy: 0.4257\n",
      "Epoch 2/10\n",
      "41351/41351 [==============================] - 7601s 184ms/step - loss: 1.9593 - accuracy: 0.4297 - val_loss: 1.8278 - val_accuracy: 0.4668\n",
      "Epoch 3/10\n",
      "41351/41351 [==============================] - 6291s 152ms/step - loss: 1.8385 - accuracy: 0.4593 - val_loss: 1.7347 - val_accuracy: 0.4902\n",
      "Epoch 4/10\n",
      "41351/41351 [==============================] - 6316s 153ms/step - loss: 1.7662 - accuracy: 0.4779 - val_loss: 1.6730 - val_accuracy: 0.5065\n",
      "Epoch 5/10\n",
      "41351/41351 [==============================] - 6306s 152ms/step - loss: 1.7150 - accuracy: 0.4916 - val_loss: 1.6249 - val_accuracy: 0.5200\n",
      "Epoch 6/10\n",
      "41351/41351 [==============================] - 6307s 153ms/step - loss: 1.6763 - accuracy: 0.5019 - val_loss: 1.5921 - val_accuracy: 0.5288\n",
      "Epoch 7/10\n",
      "41351/41351 [==============================] - 6317s 153ms/step - loss: 1.6461 - accuracy: 0.5108 - val_loss: 1.5663 - val_accuracy: 0.5356\n",
      "Epoch 8/10\n",
      "41351/41351 [==============================] - 6328s 153ms/step - loss: 1.6210 - accuracy: 0.5176 - val_loss: 1.5425 - val_accuracy: 0.5426\n",
      "Epoch 9/10\n",
      "41351/41351 [==============================] - 6329s 153ms/step - loss: 1.6003 - accuracy: 0.5235 - val_loss: 1.5244 - val_accuracy: 0.5479\n",
      "Epoch 10/10\n",
      "41351/41351 [==============================] - 6747s 163ms/step - loss: 1.5823 - accuracy: 0.5281 - val_loss: 1.5078 - val_accuracy: 0.5525\n",
      "Epoch 1/10\n",
      "41351/41351 [==============================] - 7426s 180ms/step - loss: 1.5673 - accuracy: 0.5319 - val_loss: 1.4943 - val_accuracy: 0.5555\n",
      "Epoch 2/10\n",
      "41351/41351 [==============================] - 6591s 159ms/step - loss: 1.5547 - accuracy: 0.5352 - val_loss: 1.4840 - val_accuracy: 0.5589\n",
      "Epoch 3/10\n",
      "41351/41351 [==============================] - 6578s 159ms/step - loss: 1.5426 - accuracy: 0.5386 - val_loss: 1.4726 - val_accuracy: 0.5621\n",
      "Epoch 4/10\n",
      "41351/41351 [==============================] - 7971s 193ms/step - loss: 1.5318 - accuracy: 0.5414 - val_loss: 1.4621 - val_accuracy: 0.5652\n",
      "Epoch 5/10\n",
      "41351/41351 [==============================] - 6527s 158ms/step - loss: 1.5228 - accuracy: 0.5438 - val_loss: 1.4542 - val_accuracy: 0.5672\n",
      "Epoch 6/10\n",
      "41351/41351 [==============================] - 6226s 151ms/step - loss: 1.5134 - accuracy: 0.5465 - val_loss: 1.4474 - val_accuracy: 0.5688\n",
      "Epoch 7/10\n",
      "41351/41351 [==============================] - 6660s 161ms/step - loss: 1.5059 - accuracy: 0.5481 - val_loss: 1.4392 - val_accuracy: 0.5715\n",
      "Epoch 8/10\n",
      "41351/41351 [==============================] - 6586s 159ms/step - loss: 1.4986 - accuracy: 0.5503 - val_loss: 1.4331 - val_accuracy: 0.5724\n",
      "Epoch 9/10\n",
      "41351/41351 [==============================] - 6599s 160ms/step - loss: 1.4914 - accuracy: 0.5523 - val_loss: 1.4280 - val_accuracy: 0.5742\n",
      "Epoch 10/10\n",
      "41351/41351 [==============================] - 6332s 153ms/step - loss: 1.4853 - accuracy: 0.5534 - val_loss: 1.4222 - val_accuracy: 0.5757\n",
      "Epoch 1/10\n",
      "41351/41351 [==============================] - 6125s 148ms/step - loss: 1.4798 - accuracy: 0.5554 - val_loss: 1.4167 - val_accuracy: 0.5775\n",
      "Epoch 2/10\n",
      "41351/41351 [==============================] - 6126s 148ms/step - loss: 1.4746 - accuracy: 0.5566 - val_loss: 1.4135 - val_accuracy: 0.5783\n",
      "Epoch 3/10\n",
      "41351/41351 [==============================] - 6127s 148ms/step - loss: 1.4684 - accuracy: 0.5582 - val_loss: 1.4094 - val_accuracy: 0.5792\n",
      "Epoch 4/10\n",
      "41351/41351 [==============================] - 6134s 148ms/step - loss: 1.4647 - accuracy: 0.5590 - val_loss: 1.4062 - val_accuracy: 0.5811\n",
      "Epoch 5/10\n",
      "41351/41351 [==============================] - 6186s 150ms/step - loss: 1.4606 - accuracy: 0.5601 - val_loss: 1.4029 - val_accuracy: 0.5814\n",
      "Epoch 6/10\n",
      "41351/41351 [==============================] - 6196s 150ms/step - loss: 1.4559 - accuracy: 0.5613 - val_loss: 1.3991 - val_accuracy: 0.5824\n",
      "Epoch 7/10\n",
      "41351/41351 [==============================] - 6132s 148ms/step - loss: 1.4530 - accuracy: 0.5620 - val_loss: 1.3968 - val_accuracy: 0.5831\n",
      "Epoch 8/10\n",
      "41351/41351 [==============================] - 6143s 149ms/step - loss: 1.4490 - accuracy: 0.5634 - val_loss: 1.3938 - val_accuracy: 0.5836\n",
      "Epoch 9/10\n",
      "41351/41351 [==============================] - 6146s 149ms/step - loss: 1.4461 - accuracy: 0.5642 - val_loss: 1.3895 - val_accuracy: 0.5848\n",
      "Epoch 10/10\n",
      "41351/41351 [==============================] - 6329s 153ms/step - loss: 1.4424 - accuracy: 0.5653 - val_loss: 1.3888 - val_accuracy: 0.5855\n",
      "Epoch 1/10\n",
      "41351/41351 [==============================] - ETA: 0s - loss: 1.4387 - accuracy: 0.5658"
     ]
    }
   ],
   "metadata": {}
  },
  {
   "cell_type": "markdown",
   "source": [],
   "metadata": {}
  }
 ],
 "metadata": {
  "orig_nbformat": 4,
  "language_info": {
   "name": "python",
   "version": "3.8.5",
   "mimetype": "text/x-python",
   "codemirror_mode": {
    "name": "ipython",
    "version": 3
   },
   "pygments_lexer": "ipython3",
   "nbconvert_exporter": "python",
   "file_extension": ".py"
  },
  "kernelspec": {
   "name": "python3",
   "display_name": "Python 3.8.5 64-bit ('base': conda)"
  },
  "interpreter": {
   "hash": "8f0d18fa402493471457a607d29128f0c62e1d9922055715c6c0929ae702655b"
  }
 },
 "nbformat": 4,
 "nbformat_minor": 2
}