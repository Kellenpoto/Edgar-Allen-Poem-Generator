{
 "cells": [
  {
   "cell_type": "code",
   "execution_count": 1,
   "source": [
    "import pandas as pd\n",
    "import numpy as np\n",
    "import matplotlib.pyplot as plt\n",
    "import tensorflow as tf\n",
    "from tensorflow import keras\n",
    "\n",
    "from tensorflow.keras.preprocessing.text import Tokenizer\n",
    "from tensorflow.keras.preprocessing.sequence import pad_sequences\n",
    "from tensorflow.keras.utils import to_categorical\n",
    "from tensorflow.keras.callbacks import EarlyStopping, ModelCheckpoint\n",
    "from tensorflow.keras.layers import Dropout, LSTM, Dense, Embedding"
   ],
   "outputs": [],
   "metadata": {}
  },
  {
   "cell_type": "code",
   "execution_count": 2,
   "source": [
    "data = pd.read_csv('../data/preprocessed_data.csv')\n",
    "text = data['text']"
   ],
   "outputs": [],
   "metadata": {}
  },
  {
   "cell_type": "code",
   "execution_count": 3,
   "source": [
    "# text = text.sum()"
   ],
   "outputs": [],
   "metadata": {}
  },
  {
   "cell_type": "code",
   "execution_count": 4,
   "source": [
    "tokenizer = Tokenizer()\n",
    "tokenizer.fit_on_texts(text)\n",
    "encoded_texts = tokenizer.texts_to_sequences(text)\n",
    "word_index = tokenizer.index_word\n",
    "num_words = len(word_index) + 1\n",
    "# encoded_texts = np.array(encoded_texts)"
   ],
   "outputs": [],
   "metadata": {}
  },
  {
   "cell_type": "code",
   "execution_count": 6,
   "source": [
    "def windowize_data(data, n_prev):\n",
    "    data = np.array(data)\n",
    "    n_predictions = len(data) - n_prev\n",
    "    y = data[n_prev:]\n",
    "    indices = np.arange(n_prev) + np.arange(n_predictions)[:, None]\n",
    "    x = data[indices]\n",
    "    return x, y"
   ],
   "outputs": [],
   "metadata": {}
  },
  {
   "cell_type": "code",
   "execution_count": 44,
   "source": [
    "len(encoded_texts)"
   ],
   "outputs": [
    {
     "output_type": "error",
     "ename": "TypeError",
     "evalue": "unhashable type: 'list'",
     "traceback": [
      "\u001b[0;31m---------------------------------------------------------------------------\u001b[0m",
      "\u001b[0;31mTypeError\u001b[0m                                 Traceback (most recent call last)",
      "\u001b[0;32m<ipython-input-44-713f2cab43b0>\u001b[0m in \u001b[0;36m<module>\u001b[0;34m\u001b[0m\n\u001b[0;32m----> 1\u001b[0;31m \u001b[0mlen\u001b[0m\u001b[0;34m(\u001b[0m\u001b[0mset\u001b[0m\u001b[0;34m(\u001b[0m\u001b[0mencoded_texts\u001b[0m\u001b[0;34m)\u001b[0m\u001b[0;34m)\u001b[0m\u001b[0;34m\u001b[0m\u001b[0;34m\u001b[0m\u001b[0m\n\u001b[0m",
      "\u001b[0;31mTypeError\u001b[0m: unhashable type: 'list'"
     ]
    }
   ],
   "metadata": {}
  },
  {
   "cell_type": "code",
   "execution_count": 8,
   "source": [
    "n_prev = 20\n",
    "X, y = windowize_data(encoded_texts[0], n_prev)\n",
    "for text in encoded_texts[1:]:\n",
    "    temp_X, temp_y = windowize_data(text,n_prev)\n",
    "    X = np.concatenate((X, temp_X), axis=0)\n",
    "    y = np.concatenate((y, temp_y), axis=0)"
   ],
   "outputs": [],
   "metadata": {}
  },
  {
   "cell_type": "code",
   "execution_count": 9,
   "source": [
    "X = X[:25000,:]\n",
    "y = y[:25000]"
   ],
   "outputs": [],
   "metadata": {}
  },
  {
   "cell_type": "code",
   "execution_count": 10,
   "source": [
    "y = to_categorical(y, num_classes = num_words)"
   ],
   "outputs": [],
   "metadata": {}
  },
  {
   "cell_type": "code",
   "execution_count": 11,
   "source": [
    "X.shape, y.shape"
   ],
   "outputs": [
    {
     "output_type": "execute_result",
     "data": {
      "text/plain": [
       "((25000, 20), (25000, 24775))"
      ]
     },
     "metadata": {},
     "execution_count": 11
    }
   ],
   "metadata": {}
  },
  {
   "cell_type": "code",
   "execution_count": 12,
   "source": [
    "model = keras.Sequential()\n",
    "model.add(Embedding(num_words, 128, input_length=n_prev))\n",
    "model.add(LSTM(128, input_shape=(n_prev,1), return_sequences=True))\n",
    "# model.add(Dropout(.2))\n",
    "model.add(LSTM(128))\n",
    "# model.add(Dropout(.2))\n",
    "model.add(Dense(num_words, activation='softmax'))\n",
    "model.compile(loss='categorical_crossentropy', optimizer='adam', metrics='accuracy')"
   ],
   "outputs": [],
   "metadata": {}
  },
  {
   "cell_type": "code",
   "execution_count": 16,
   "source": [
    "callbacks = [ModelCheckpoint(('../models/model.h5'), save_best_only=True, save_weights_only=False, monitor='val_accuracy')]"
   ],
   "outputs": [],
   "metadata": {}
  },
  {
   "cell_type": "code",
   "execution_count": 17,
   "source": [
    "model.summary()"
   ],
   "outputs": [
    {
     "output_type": "stream",
     "name": "stdout",
     "text": [
      "Model: \"sequential\"\n",
      "_________________________________________________________________\n",
      "Layer (type)                 Output Shape              Param #   \n",
      "=================================================================\n",
      "embedding (Embedding)        (None, 20, 128)           3171200   \n",
      "_________________________________________________________________\n",
      "lstm (LSTM)                  (None, 20, 128)           131584    \n",
      "_________________________________________________________________\n",
      "lstm_1 (LSTM)                (None, 128)               131584    \n",
      "_________________________________________________________________\n",
      "dense (Dense)                (None, 24775)             3195975   \n",
      "=================================================================\n",
      "Total params: 6,630,343\n",
      "Trainable params: 6,630,343\n",
      "Non-trainable params: 0\n",
      "_________________________________________________________________\n"
     ]
    }
   ],
   "metadata": {}
  },
  {
   "cell_type": "code",
   "execution_count": 18,
   "source": [
    "model.fit(X, y, epochs=100, batch_size=32, callbacks=callbacks)"
   ],
   "outputs": [
    {
     "output_type": "stream",
     "name": "stdout",
     "text": [
      "Epoch 1/100\n",
      "782/782 [==============================] - 57s 73ms/step - loss: 6.6226 - accuracy: 0.0838\n",
      "WARNING:tensorflow:Can save best model only with val_accuracy available, skipping.\n",
      "Epoch 2/100\n",
      "782/782 [==============================] - 56s 72ms/step - loss: 6.3146 - accuracy: 0.0996\n",
      "WARNING:tensorflow:Can save best model only with val_accuracy available, skipping.\n",
      "Epoch 3/100\n",
      "782/782 [==============================] - 53s 67ms/step - loss: 6.0536 - accuracy: 0.1113\n",
      "WARNING:tensorflow:Can save best model only with val_accuracy available, skipping.\n",
      "Epoch 4/100\n",
      "782/782 [==============================] - 54s 70ms/step - loss: 5.8182 - accuracy: 0.1247\n",
      "WARNING:tensorflow:Can save best model only with val_accuracy available, skipping.\n",
      "Epoch 5/100\n",
      "782/782 [==============================] - 55s 70ms/step - loss: 5.6171 - accuracy: 0.1343\n",
      "WARNING:tensorflow:Can save best model only with val_accuracy available, skipping.\n",
      "Epoch 6/100\n",
      "782/782 [==============================] - 53s 68ms/step - loss: 5.4264 - accuracy: 0.1403\n",
      "WARNING:tensorflow:Can save best model only with val_accuracy available, skipping.\n",
      "Epoch 7/100\n",
      "782/782 [==============================] - 55s 71ms/step - loss: 5.2388 - accuracy: 0.1471\n",
      "WARNING:tensorflow:Can save best model only with val_accuracy available, skipping.\n",
      "Epoch 8/100\n",
      "782/782 [==============================] - 53s 68ms/step - loss: 5.0524 - accuracy: 0.1511\n",
      "WARNING:tensorflow:Can save best model only with val_accuracy available, skipping.\n",
      "Epoch 9/100\n",
      "782/782 [==============================] - 55s 71ms/step - loss: 4.8745 - accuracy: 0.1605\n",
      "WARNING:tensorflow:Can save best model only with val_accuracy available, skipping.\n",
      "Epoch 10/100\n",
      "782/782 [==============================] - 54s 69ms/step - loss: 4.9921 - accuracy: 0.1561\n",
      "WARNING:tensorflow:Can save best model only with val_accuracy available, skipping.\n",
      "Epoch 11/100\n",
      "782/782 [==============================] - 56s 72ms/step - loss: 4.7570 - accuracy: 0.1644\n",
      "WARNING:tensorflow:Can save best model only with val_accuracy available, skipping.\n",
      "Epoch 12/100\n",
      "782/782 [==============================] - 53s 67ms/step - loss: 4.5927 - accuracy: 0.1745\n",
      "WARNING:tensorflow:Can save best model only with val_accuracy available, skipping.\n",
      "Epoch 13/100\n",
      "782/782 [==============================] - 56s 71ms/step - loss: 4.4253 - accuracy: 0.1825\n",
      "WARNING:tensorflow:Can save best model only with val_accuracy available, skipping.\n",
      "Epoch 14/100\n",
      "782/782 [==============================] - 53s 67ms/step - loss: 4.3232 - accuracy: 0.1927\n",
      "WARNING:tensorflow:Can save best model only with val_accuracy available, skipping.\n",
      "Epoch 15/100\n",
      "782/782 [==============================] - 54s 69ms/step - loss: 4.1833 - accuracy: 0.2061\n",
      "WARNING:tensorflow:Can save best model only with val_accuracy available, skipping.\n",
      "Epoch 16/100\n",
      "782/782 [==============================] - 55s 71ms/step - loss: 4.0809 - accuracy: 0.2195\n",
      "WARNING:tensorflow:Can save best model only with val_accuracy available, skipping.\n",
      "Epoch 17/100\n",
      "782/782 [==============================] - 54s 68ms/step - loss: 3.9516 - accuracy: 0.2314\n",
      "WARNING:tensorflow:Can save best model only with val_accuracy available, skipping.\n",
      "Epoch 18/100\n",
      "782/782 [==============================] - 55s 71ms/step - loss: 3.8500 - accuracy: 0.2440\n",
      "WARNING:tensorflow:Can save best model only with val_accuracy available, skipping.\n",
      "Epoch 19/100\n",
      "782/782 [==============================] - 54s 69ms/step - loss: 3.7228 - accuracy: 0.2588\n",
      "WARNING:tensorflow:Can save best model only with val_accuracy available, skipping.\n",
      "Epoch 20/100\n",
      "782/782 [==============================] - 55s 71ms/step - loss: 3.5910 - accuracy: 0.2754\n",
      "WARNING:tensorflow:Can save best model only with val_accuracy available, skipping.\n",
      "Epoch 21/100\n",
      "782/782 [==============================] - 55s 70ms/step - loss: 3.4737 - accuracy: 0.2899\n",
      "WARNING:tensorflow:Can save best model only with val_accuracy available, skipping.\n",
      "Epoch 22/100\n",
      "782/782 [==============================] - 56s 71ms/step - loss: 3.3775 - accuracy: 0.3040\n",
      "WARNING:tensorflow:Can save best model only with val_accuracy available, skipping.\n",
      "Epoch 23/100\n",
      "782/782 [==============================] - 53s 68ms/step - loss: 3.2730 - accuracy: 0.3227\n",
      "WARNING:tensorflow:Can save best model only with val_accuracy available, skipping.\n",
      "Epoch 24/100\n",
      "782/782 [==============================] - 57s 73ms/step - loss: 3.2093 - accuracy: 0.3346\n",
      "WARNING:tensorflow:Can save best model only with val_accuracy available, skipping.\n",
      "Epoch 25/100\n",
      "782/782 [==============================] - 53s 68ms/step - loss: 3.1037 - accuracy: 0.3514\n",
      "WARNING:tensorflow:Can save best model only with val_accuracy available, skipping.\n",
      "Epoch 26/100\n",
      "782/782 [==============================] - 54s 69ms/step - loss: 3.0064 - accuracy: 0.3652\n",
      "WARNING:tensorflow:Can save best model only with val_accuracy available, skipping.\n",
      "Epoch 27/100\n",
      "782/782 [==============================] - 55s 70ms/step - loss: 2.9912 - accuracy: 0.3719\n",
      "WARNING:tensorflow:Can save best model only with val_accuracy available, skipping.\n",
      "Epoch 28/100\n",
      "782/782 [==============================] - 53s 68ms/step - loss: 2.9384 - accuracy: 0.3830\n",
      "WARNING:tensorflow:Can save best model only with val_accuracy available, skipping.\n",
      "Epoch 29/100\n",
      "782/782 [==============================] - 56s 71ms/step - loss: 2.9142 - accuracy: 0.3883\n",
      "WARNING:tensorflow:Can save best model only with val_accuracy available, skipping.\n",
      "Epoch 30/100\n",
      "782/782 [==============================] - 54s 69ms/step - loss: 2.7633 - accuracy: 0.4116\n",
      "WARNING:tensorflow:Can save best model only with val_accuracy available, skipping.\n",
      "Epoch 31/100\n",
      "782/782 [==============================] - 55s 71ms/step - loss: 2.6674 - accuracy: 0.4271\n",
      "WARNING:tensorflow:Can save best model only with val_accuracy available, skipping.\n",
      "Epoch 32/100\n",
      "782/782 [==============================] - 54s 69ms/step - loss: 2.6222 - accuracy: 0.4379\n",
      "WARNING:tensorflow:Can save best model only with val_accuracy available, skipping.\n",
      "Epoch 33/100\n",
      "782/782 [==============================] - 55s 71ms/step - loss: 2.5249 - accuracy: 0.4547\n",
      "WARNING:tensorflow:Can save best model only with val_accuracy available, skipping.\n",
      "Epoch 34/100\n",
      "782/782 [==============================] - 53s 68ms/step - loss: 2.4665 - accuracy: 0.4651\n",
      "WARNING:tensorflow:Can save best model only with val_accuracy available, skipping.\n",
      "Epoch 35/100\n",
      "782/782 [==============================] - 57s 73ms/step - loss: 2.3863 - accuracy: 0.4831\n",
      "WARNING:tensorflow:Can save best model only with val_accuracy available, skipping.\n",
      "Epoch 36/100\n",
      "782/782 [==============================] - 54s 69ms/step - loss: 2.3162 - accuracy: 0.4963\n",
      "WARNING:tensorflow:Can save best model only with val_accuracy available, skipping.\n",
      "Epoch 37/100\n",
      "782/782 [==============================] - 55s 70ms/step - loss: 2.2691 - accuracy: 0.5071\n",
      "WARNING:tensorflow:Can save best model only with val_accuracy available, skipping.\n",
      "Epoch 38/100\n",
      "782/782 [==============================] - 56s 71ms/step - loss: 2.2252 - accuracy: 0.5184\n",
      "WARNING:tensorflow:Can save best model only with val_accuracy available, skipping.\n",
      "Epoch 39/100\n",
      "782/782 [==============================] - 54s 69ms/step - loss: 2.1780 - accuracy: 0.5268\n",
      "WARNING:tensorflow:Can save best model only with val_accuracy available, skipping.\n",
      "Epoch 40/100\n",
      "782/782 [==============================] - 56s 72ms/step - loss: 2.0974 - accuracy: 0.5422\n",
      "WARNING:tensorflow:Can save best model only with val_accuracy available, skipping.\n",
      "Epoch 41/100\n",
      "782/782 [==============================] - 54s 69ms/step - loss: 2.0175 - accuracy: 0.5596\n",
      "WARNING:tensorflow:Can save best model only with val_accuracy available, skipping.\n",
      "Epoch 42/100\n",
      "782/782 [==============================] - 56s 72ms/step - loss: 2.0127 - accuracy: 0.5622\n",
      "WARNING:tensorflow:Can save best model only with val_accuracy available, skipping.\n",
      "Epoch 43/100\n",
      "782/782 [==============================] - 55s 71ms/step - loss: 1.9969 - accuracy: 0.5662\n",
      "WARNING:tensorflow:Can save best model only with val_accuracy available, skipping.\n",
      "Epoch 44/100\n",
      "782/782 [==============================] - 56s 72ms/step - loss: 2.0564 - accuracy: 0.5610\n",
      "WARNING:tensorflow:Can save best model only with val_accuracy available, skipping.\n"
     ]
    },
    {
     "output_type": "stream",
     "name": "stdout",
     "text": [
      "Epoch 45/100\n",
      "782/782 [==============================] - 53s 68ms/step - loss: 1.9671 - accuracy: 0.5736\n",
      "WARNING:tensorflow:Can save best model only with val_accuracy available, skipping.\n",
      "Epoch 46/100\n",
      "782/782 [==============================] - 55s 70ms/step - loss: 1.8192 - accuracy: 0.6022\n",
      "WARNING:tensorflow:Can save best model only with val_accuracy available, skipping.\n",
      "Epoch 47/100\n",
      "782/782 [==============================] - 52s 67ms/step - loss: 1.7590 - accuracy: 0.6138\n",
      "WARNING:tensorflow:Can save best model only with val_accuracy available, skipping.\n",
      "Epoch 48/100\n",
      "782/782 [==============================] - 54s 69ms/step - loss: 1.7169 - accuracy: 0.6250\n",
      "WARNING:tensorflow:Can save best model only with val_accuracy available, skipping.\n",
      "Epoch 49/100\n",
      "782/782 [==============================] - 54s 69ms/step - loss: 1.7215 - accuracy: 0.6235\n",
      "WARNING:tensorflow:Can save best model only with val_accuracy available, skipping.\n",
      "Epoch 50/100\n",
      "782/782 [==============================] - 53s 68ms/step - loss: 1.6995 - accuracy: 0.63300s - loss:\n",
      "WARNING:tensorflow:Can save best model only with val_accuracy available, skipping.\n",
      "Epoch 51/100\n",
      "782/782 [==============================] - 55s 70ms/step - loss: 1.6920 - accuracy: 0.6370\n",
      "WARNING:tensorflow:Can save best model only with val_accuracy available, skipping.\n",
      "Epoch 52/100\n",
      "782/782 [==============================] - 53s 68ms/step - loss: 1.6388 - accuracy: 0.6482\n",
      "WARNING:tensorflow:Can save best model only with val_accuracy available, skipping.\n",
      "Epoch 53/100\n",
      "782/782 [==============================] - 55s 70ms/step - loss: 1.5304 - accuracy: 0.6681\n",
      "WARNING:tensorflow:Can save best model only with val_accuracy available, skipping.\n",
      "Epoch 54/100\n",
      "782/782 [==============================] - 54s 69ms/step - loss: 1.7105 - accuracy: 0.6465\n",
      "WARNING:tensorflow:Can save best model only with val_accuracy available, skipping.\n",
      "Epoch 55/100\n",
      "782/782 [==============================] - 55s 71ms/step - loss: 1.7561 - accuracy: 0.6352\n",
      "WARNING:tensorflow:Can save best model only with val_accuracy available, skipping.\n",
      "Epoch 56/100\n",
      "782/782 [==============================] - 53s 67ms/step - loss: 1.5773 - accuracy: 0.6585\n",
      "WARNING:tensorflow:Can save best model only with val_accuracy available, skipping.\n",
      "Epoch 57/100\n",
      "782/782 [==============================] - 55s 70ms/step - loss: 1.4311 - accuracy: 0.6939\n",
      "WARNING:tensorflow:Can save best model only with val_accuracy available, skipping.\n",
      "Epoch 58/100\n",
      "782/782 [==============================] - 53s 68ms/step - loss: 1.3570 - accuracy: 0.7080\n",
      "WARNING:tensorflow:Can save best model only with val_accuracy available, skipping.\n",
      "Epoch 59/100\n",
      "782/782 [==============================] - 53s 67ms/step - loss: 1.2906 - accuracy: 0.7223\n",
      "WARNING:tensorflow:Can save best model only with val_accuracy available, skipping.\n",
      "Epoch 60/100\n",
      "782/782 [==============================] - 55s 71ms/step - loss: 1.2297 - accuracy: 0.7375\n",
      "WARNING:tensorflow:Can save best model only with val_accuracy available, skipping.\n",
      "Epoch 61/100\n",
      "782/782 [==============================] - 53s 68ms/step - loss: 1.1920 - accuracy: 0.7452\n",
      "WARNING:tensorflow:Can save best model only with val_accuracy available, skipping.\n",
      "Epoch 62/100\n",
      "782/782 [==============================] - 55s 71ms/step - loss: 1.1528 - accuracy: 0.7538\n",
      "WARNING:tensorflow:Can save best model only with val_accuracy available, skipping.\n",
      "Epoch 63/100\n",
      "782/782 [==============================] - 52s 67ms/step - loss: 1.1215 - accuracy: 0.7583\n",
      "WARNING:tensorflow:Can save best model only with val_accuracy available, skipping.\n",
      "Epoch 64/100\n",
      "782/782 [==============================] - 55s 70ms/step - loss: 1.1234 - accuracy: 0.7625\n",
      "WARNING:tensorflow:Can save best model only with val_accuracy available, skipping.\n",
      "Epoch 65/100\n",
      "782/782 [==============================] - 55s 70ms/step - loss: 1.0812 - accuracy: 0.7733\n",
      "WARNING:tensorflow:Can save best model only with val_accuracy available, skipping.\n",
      "Epoch 66/100\n",
      "782/782 [==============================] - 56s 71ms/step - loss: 1.0320 - accuracy: 0.7833\n",
      "WARNING:tensorflow:Can save best model only with val_accuracy available, skipping.\n",
      "Epoch 67/100\n",
      "782/782 [==============================] - 54s 69ms/step - loss: 1.0083 - accuracy: 0.7892\n",
      "WARNING:tensorflow:Can save best model only with val_accuracy available, skipping.\n",
      "Epoch 68/100\n",
      "782/782 [==============================] - 55s 70ms/step - loss: 0.9740 - accuracy: 0.7977\n",
      "WARNING:tensorflow:Can save best model only with val_accuracy available, skipping.\n",
      "Epoch 69/100\n",
      "782/782 [==============================] - 55s 70ms/step - loss: 0.9680 - accuracy: 0.8008\n",
      "WARNING:tensorflow:Can save best model only with val_accuracy available, skipping.\n",
      "Epoch 70/100\n",
      "782/782 [==============================] - 54s 69ms/step - loss: 1.0770 - accuracy: 0.7812\n",
      "WARNING:tensorflow:Can save best model only with val_accuracy available, skipping.\n",
      "Epoch 71/100\n",
      "782/782 [==============================] - 56s 71ms/step - loss: 0.9522 - accuracy: 0.8044\n",
      "WARNING:tensorflow:Can save best model only with val_accuracy available, skipping.\n",
      "Epoch 72/100\n",
      "782/782 [==============================] - 54s 69ms/step - loss: 0.9225 - accuracy: 0.8119\n",
      "WARNING:tensorflow:Can save best model only with val_accuracy available, skipping.\n",
      "Epoch 73/100\n",
      "782/782 [==============================] - 56s 71ms/step - loss: 0.8897 - accuracy: 0.8213\n",
      "WARNING:tensorflow:Can save best model only with val_accuracy available, skipping.\n",
      "Epoch 74/100\n",
      "782/782 [==============================] - 53s 68ms/step - loss: 1.2454 - accuracy: 0.7562\n",
      "WARNING:tensorflow:Can save best model only with val_accuracy available, skipping.\n",
      "Epoch 75/100\n",
      "782/782 [==============================] - 56s 71ms/step - loss: 1.0994 - accuracy: 0.7850\n",
      "WARNING:tensorflow:Can save best model only with val_accuracy available, skipping.\n",
      "Epoch 76/100\n",
      "782/782 [==============================] - 54s 69ms/step - loss: 1.0238 - accuracy: 0.7954\n",
      "WARNING:tensorflow:Can save best model only with val_accuracy available, skipping.\n",
      "Epoch 77/100\n",
      "782/782 [==============================] - 56s 71ms/step - loss: 0.9697 - accuracy: 0.8048\n",
      "WARNING:tensorflow:Can save best model only with val_accuracy available, skipping.\n",
      "Epoch 78/100\n",
      "782/782 [==============================] - 54s 69ms/step - loss: 0.9110 - accuracy: 0.8166\n",
      "WARNING:tensorflow:Can save best model only with val_accuracy available, skipping.\n",
      "Epoch 79/100\n",
      "782/782 [==============================] - 55s 70ms/step - loss: 0.8710 - accuracy: 0.8230\n",
      "WARNING:tensorflow:Can save best model only with val_accuracy available, skipping.\n",
      "Epoch 80/100\n",
      "782/782 [==============================] - 54s 69ms/step - loss: 0.8333 - accuracy: 0.8312\n",
      "WARNING:tensorflow:Can save best model only with val_accuracy available, skipping.\n",
      "Epoch 81/100\n",
      "782/782 [==============================] - 54s 69ms/step - loss: 0.7944 - accuracy: 0.8401\n",
      "WARNING:tensorflow:Can save best model only with val_accuracy available, skipping.\n",
      "Epoch 82/100\n",
      "782/782 [==============================] - 57s 72ms/step - loss: 0.7566 - accuracy: 0.8490\n",
      "WARNING:tensorflow:Can save best model only with val_accuracy available, skipping.\n",
      "Epoch 83/100\n",
      "782/782 [==============================] - 54s 69ms/step - loss: 0.7207 - accuracy: 0.8569\n",
      "WARNING:tensorflow:Can save best model only with val_accuracy available, skipping.\n",
      "Epoch 84/100\n",
      "782/782 [==============================] - 56s 72ms/step - loss: 0.6909 - accuracy: 0.8622\n",
      "WARNING:tensorflow:Can save best model only with val_accuracy available, skipping.\n",
      "Epoch 85/100\n",
      "782/782 [==============================] - 54s 69ms/step - loss: 0.6584 - accuracy: 0.8726\n",
      "WARNING:tensorflow:Can save best model only with val_accuracy available, skipping.\n",
      "Epoch 86/100\n",
      "782/782 [==============================] - 56s 71ms/step - loss: 0.6256 - accuracy: 0.8790\n",
      "WARNING:tensorflow:Can save best model only with val_accuracy available, skipping.\n",
      "Epoch 87/100\n",
      "782/782 [==============================] - 54s 69ms/step - loss: 0.5968 - accuracy: 0.8842\n",
      "WARNING:tensorflow:Can save best model only with val_accuracy available, skipping.\n",
      "Epoch 88/100\n",
      "782/782 [==============================] - 56s 72ms/step - loss: 0.5782 - accuracy: 0.8912\n",
      "WARNING:tensorflow:Can save best model only with val_accuracy available, skipping.\n"
     ]
    },
    {
     "output_type": "stream",
     "name": "stdout",
     "text": [
      "Epoch 89/100\n",
      "782/782 [==============================] - 52s 67ms/step - loss: 0.5440 - accuracy: 0.8983\n",
      "WARNING:tensorflow:Can save best model only with val_accuracy available, skipping.\n",
      "Epoch 90/100\n",
      "782/782 [==============================] - 54s 68ms/step - loss: 0.5202 - accuracy: 0.9031\n",
      "WARNING:tensorflow:Can save best model only with val_accuracy available, skipping.\n",
      "Epoch 91/100\n",
      "782/782 [==============================] - 53s 68ms/step - loss: 0.4914 - accuracy: 0.9109\n",
      "WARNING:tensorflow:Can save best model only with val_accuracy available, skipping.\n",
      "Epoch 92/100\n",
      "782/782 [==============================] - 52s 67ms/step - loss: 0.4636 - accuracy: 0.9186\n",
      "WARNING:tensorflow:Can save best model only with val_accuracy available, skipping.\n",
      "Epoch 93/100\n",
      "782/782 [==============================] - 55s 70ms/step - loss: 0.4412 - accuracy: 0.9232\n",
      "WARNING:tensorflow:Can save best model only with val_accuracy available, skipping.\n",
      "Epoch 94/100\n",
      "782/782 [==============================] - 52s 67ms/step - loss: 0.4213 - accuracy: 0.9282\n",
      "WARNING:tensorflow:Can save best model only with val_accuracy available, skipping.\n",
      "Epoch 95/100\n",
      "782/782 [==============================] - 54s 69ms/step - loss: 0.4021 - accuracy: 0.9319\n",
      "WARNING:tensorflow:Can save best model only with val_accuracy available, skipping.\n",
      "Epoch 96/100\n",
      "782/782 [==============================] - 52s 67ms/step - loss: 0.3796 - accuracy: 0.9366\n",
      "WARNING:tensorflow:Can save best model only with val_accuracy available, skipping.\n",
      "Epoch 97/100\n",
      "782/782 [==============================] - 54s 70ms/step - loss: 0.3562 - accuracy: 0.9436\n",
      "WARNING:tensorflow:Can save best model only with val_accuracy available, skipping.\n",
      "Epoch 98/100\n",
      "782/782 [==============================] - 52s 67ms/step - loss: 0.3448 - accuracy: 0.9442\n",
      "WARNING:tensorflow:Can save best model only with val_accuracy available, skipping.\n",
      "Epoch 99/100\n",
      "782/782 [==============================] - 54s 69ms/step - loss: 0.3215 - accuracy: 0.9506\n",
      "WARNING:tensorflow:Can save best model only with val_accuracy available, skipping.\n",
      "Epoch 100/100\n",
      "782/782 [==============================] - 53s 68ms/step - loss: 0.3088 - accuracy: 0.9544\n",
      "WARNING:tensorflow:Can save best model only with val_accuracy available, skipping.\n"
     ]
    },
    {
     "output_type": "execute_result",
     "data": {
      "text/plain": [
       "<tensorflow.python.keras.callbacks.History at 0x7f6a8454fbb0>"
      ]
     },
     "metadata": {},
     "execution_count": 18
    }
   ],
   "metadata": {}
  },
  {
   "cell_type": "code",
   "execution_count": 19,
   "source": [
    "poetry_length = 10\n",
    "def generate_poetry(seed_text, n_lines):\n",
    "  for i in range(n_lines):\n",
    "    text = []\n",
    "    for _ in range(poetry_length):\n",
    "      encoded = tokenizer.texts_to_sequences([seed_text])\n",
    "      encoded = pad_sequences(encoded, maxlen=20, padding='pre')\n",
    "\n",
    "      y_pred = np.argmax(model.predict(encoded), axis=-1)\n",
    "\n",
    "      predicted_word = \"\"\n",
    "      for word, index in tokenizer.word_index.items():\n",
    "        if index == y_pred:\n",
    "          predicted_word = word\n",
    "          break\n",
    "\n",
    "      seed_text = seed_text + ' ' + predicted_word\n",
    "      text.append(predicted_word)\n",
    "\n",
    "    seed_text = text[-1]\n",
    "    text = ' '.join(text)\n",
    "    print(text)"
   ],
   "outputs": [],
   "metadata": {}
  },
  {
   "cell_type": "code",
   "execution_count": 31,
   "source": [
    "generate_poetry('I tried so hard, and got so far, but in the end it', 3)"
   ],
   "outputs": [
    {
     "output_type": "stream",
     "name": "stdout",
     "text": [
      "was a hyena “the island in the water is far\n",
      "until it had burst upon us but i could easily\n",
      "in motion and sending forth to the bolt and went\n"
     ]
    }
   ],
   "metadata": {}
  },
  {
   "cell_type": "code",
   "execution_count": 25,
   "source": [
    "model.save('../models/first_model')"
   ],
   "outputs": [],
   "metadata": {}
  },
  {
   "cell_type": "code",
   "execution_count": 40,
   "source": [
    "seed_2 = \"For arms there dangled from the upper portion of the carcass two tolerably long bottles, with the necks outward for hands.\""
   ],
   "outputs": [],
   "metadata": {}
  },
  {
   "cell_type": "code",
   "execution_count": 41,
   "source": [
    "generate_poetry(seed_2, 2)"
   ],
   "outputs": [
    {
     "output_type": "stream",
     "name": "stdout",
     "text": [
      "and this vortex the whole surface of the household—of a\n",
      "remembrance of aerial forms—of spiritual and meaning eyes—of sounds musical\n"
     ]
    }
   ],
   "metadata": {}
  },
  {
   "cell_type": "code",
   "execution_count": 37,
   "source": [
    "data.text[25]"
   ],
   "outputs": [
    {
     "output_type": "execute_result",
     "data": {
      "text/plain": [
       "'AN EXTRAVAGANZA.     IT was a chilly November afternoon. I had just consummated an unusually hearty dinner, of which the dyspeptic truffe formed not the least important item, and was sitting alone in the dining-room, with my feet upon the fender, and at my elbow a small table which I had rolled up to the fire, and upon which were some apologies for dessert, with some miscellaneous bottles of wine, spirit and liqueur. In the morning I had been reading Glover’s “Leonidas,” Wilkie’s “Epigoniad,” Lamartine’s “Pilgrimage,” Barlow’s “Columbiad,” Tuckermann’s “Sicily,” and Griswold’s “Curiosities”; I am willing to confess, therefore, that I now felt a little stupid. I made effort to arouse myself by aid of frequent Lafitte, and, all failing, I betook myself to a stray newspaper in despair. Having carefully perused the column of “houses to let,” and the column of “dogs lost,” and then the two columns of “wives and apprentices runaway,” I attacked with great resolution the editorial matter, and, reading it from beginning to end without understanding a syllable, conceived the possibility of its being Chinese, and so re-read it from the end to the beginning, but with no more satisfactory result. I was about throwing away, in disgust,    “This folio of four pages, happy work Which not even critics criticise,”     when I felt my attention somewhat aroused by the paragraph which follows:     “The avenues to death are numerous and strange. A London paper mentions the decease of a person from a singular cause. He was playing at ‘puff the dart,’ which is played with a long needle inserted in some worsted, and blown at a target through a tin tube. He placed the needle at the wrong end of the tube, and drawing his breath strongly to puff the dart forward with force, drew the needle into his throat. It entered the lungs, and in a few days killed him.”     Upon seeing this I fell into a great rage, without exactly knowing why. “This thing,” I exclaimed, “is a contemptible falsehood—a poor hoax—the lees of the invention of some pitiable penny-a-liner—of some wretched concoctor of accidents in Cocaigne. These fellows, knowing the extravagant gullibility of the age, set their wits to work in the imagination of improbable possibilities—-of odd accidents, as they term them; but to a reflecting intellect (like mine,” I added, in parenthesis, putting my forefinger unconsciously to the side of my nose,) “to a contemplative understanding such as I myself possess, it seems evident at once that the marvelous increase of late in these ‘odd accidents’ is by far the oddest accident of all. For my own part, I intend to believe nothing henceforward that has anything of the ‘singular’ about it.”     “Mein Gott, den, vat a vool you bees for dat!” replied one of the most remarkable voices I ever heard. At first I took it for a rumbling in my ears—such as a man sometimes experiences when getting very drunk—but, upon second thought, I considered the sound as more nearly resembling that which proceeds from an empty barrel beaten with a big stick; and, in fact, this I should have concluded it to be, but for the articulation of the syllables and words. I am by no means naturally nervous, and the very few glasses of Lafitte which I had sipped served to embolden me no little, so that I felt nothing of trepidation, but merely uplifted my eyes with a leisurely movement, and looked carefully around the room for the intruder. I could not, however, perceive any one at all.     “Humph!” resumed the voice, as I continued my survey, “you mus pe so dronk as de pig, den, for not zee me as I zit here at your zide.”     Hereupon I bethought me of looking immediately before my nose, and there, sure enough, confronting me at the table sat a personage nondescript, although not altogether indescribable. His body was a wine-pipe, or a rum-puncheon, or something of that character, and had a truly Falstaffian air. In its nether extremity were inserted two kegs, which seemed to answer all the purposes of legs. For arms there dangled from the upper portion of the carcass two tolerably long bottles, with the necks outward for hands. All the head that I saw the monster possessed of was one of those Hessian canteens which resemble a large snuff-box with a hole in the middle of the lid. This canteen (with a funnel on its top, like a cavalier cap slouched over the eyes) was set on edge upon the puncheon, with the hole toward myself; and through this hole, which seemed puckered up like the mouth of a very precise old maid, the creature was emitting certain rumbling and grumbling noises which he evidently intended for intelligible talk.     “I zay,” said he, “you mos pe dronk as de pig, vor zit dare and not zee me zit ere; and I zay, doo, you mos pe pigger vool as de goose, vor to dispelief vat iz print in de print. ‘Tiz de troof—-dat it iz—eberry vord ob it.”     “Who are you, pray?” said I, with much dignity, although somewhat puzzled; “how did you get here? and what is it you are talking about?”     “Az vor ow I com’d ere,” replied the figure, “dat iz none of your pizzness; and as vor vat I be talking apout, I be talk apout vat I tink proper; and as vor who I be, vy dat is de very ting I com’d here for to let you zee for yourzelf.”     “You are a drunken vagabond,” said I, “and I shall ring the bell and order my footman to kick you into the street.”     “He! he! he!” said the fellow, “hu! hu! hu! dat you can’t do.”     “Can’t do!” said I, “what do you mean?—I can’t do what?”     “Ring de pell;” he replied, attempting a grin with his little villanous mouth.     Upon this I made an effort to get up, in order to put my threat into execution; but the ruffian just reached across the table very deliberately, and hitting me a tap on the forehead with the neck of one of the long bottles, knocked me back into the arm-chair from which I had half arisen. I was utterly astounded; and, for a moment, was quite at a loss what to do. In the meantime, he continued his talk.     “You zee,” said he, “it iz te bess vor zit still; and now you shall know who I pe. Look at me! zee! I am te Angel ov te Odd.”     “And odd enough, too,” I ventured to reply; “but I was always under the impression that an angel had wings.”     “Te wing!” he cried, highly incensed, “vat I pe do mit te wing? Mein Gott! do you take me vor a shicken?”     “No—oh no!” I replied, much alarmed, “you are no chicken—certainly not.”     “Well, den, zit still and pehabe yourself, or I’ll rap you again mid me vist. It iz te shicken ab te wing, und te owl ab te wing, und te imp ab te wing, und te head-teuffel ab te wing. Te angel ab not te wing, and I am te Angel ov te Odd.”     “And your business with me at present is—is”—     “My pizzness!” ejaculated the thing, “vy vat a low bred buppy you mos pe vor to ask a gentleman und an angel apout his pizziness!”     This language was rather more than I could bear, even from an angel; so, plucking up courage, I seized a salt-cellar which lay within reach, and hurled it at the head of the intruder. Either he dodged, however, or my aim was inaccurate; for all I accomplished was the demolition of the crystal which protected the dial of the clock upon the mantel-piece. As for the Angel, he evinced his sense of my assault by giving me two or three hard consecutive raps upon the forehead as before. These reduced me at once to submission, and I am almost ashamed to confess that either through pain or vexation, there came a few tears into my eyes.     “Mein Gott!” said the Angel of the Odd, apparently much softened at my distress; “mein Gott, te man is eder ferry dronk or ferry zorry. You mos not trink it so strong—you mos put te water in te wine. Here, trink dis, like a goot veller, und don’t gry now—don’t!”     Hereupon the Angel of the Odd replenished my goblet (which was about a third full of Port) with a colorless fluid that he poured from one of his hand bottles. I observed that these bottles had labels about their necks, and that these labels were inscribed “Kirschenwasser.”     The considerate kindness of the Angel mollified me in no little measure; and, aided by the water with which he diluted my Port more than once, I at length regained sufficient temper to listen to his very extraordinary discourse. I cannot pretend to recount all that he told me, but I gleaned from what he said that he was the genius who presided over the contretemps of mankind, and whose business it was to bring about the odd accidents which are continually astonishing the skeptic. Once or twice, upon my venturing to express my total incredulity in respect to his pretensions, he grew very angry indeed, so that at length I considered it the wiser policy to say nothing at all, and let him have his own way. He talked on, therefore, at great length, while I merely leaned back in my chair with my eyes shut, and amused myself with munching raisins and filliping the stems about the room. But, by-and-by, the Angel suddenly construed this behavior of mine into contempt. He arose in a terrible passion, slouched his funnel down over his eyes, swore a vast oath, uttered a threat of some character which I did not precisely comprehend, and finally made me a low bow and departed, wishing me, in the language of the archbishop in Gil-Blas, “beaucoup de bonheur et un peu plus de bon sens.”     His departure afforded me relief. The very few glasses of Lafitte that I had sipped had the effect of rendering me drowsy, and I felt inclined to take a nap of some fifteen or twenty minutes, as is my custom after dinner. At six I had an appointment of consequence, which it was quite indispensable that I should keep. The policy of insurance for my dwelling house had expired the day before; and, some dispute having arisen, it was agreed that, at six, I should meet the board of directors of the company and settle the terms of a renewal. Glancing upward at the clock on the mantel-piece, (for I felt too drowsy to take out my watch), I had the pleasure to find that I had still twenty-five minutes to spare. It was half past five; I could easily walk to the insurance office in five minutes; and my usual siestas had never been known to exceed five and twenty. I felt sufficiently safe, therefore, and composed myself to my slumbers forthwith.     Having completed them to my satisfaction, I again looked toward the time-piece and was half inclined to believe in the possibility of odd accidents when I found that, instead of my ordinary fifteen or twenty minutes, I had been dozing only three; for it still wanted seven and twenty of the appointed hour. I betook myself again to my nap, and at length a second time awoke, when, to my utter amazement, it still wanted twenty-seven minutes of six. I jumped up to examine the clock, and found that it had ceased running. My watch informed me that it was half past seven; and, of course, having slept two hours, I was too late for my appointment. “It will make no difference,” I said: “I can call at the office in the morning and apologize; in the meantime what can be the matter with the clock?” Upon examining it I discovered that one of the raisin stems which I had been filliping about the room during the discourse of the Angel of the Odd, had flown through the fractured crystal, and lodging, singularly enough, in the key-hole, with an end projecting outward, had thus arrested the revolution of the minute hand.     “Ah!” said I, “I see how it is. This thing speaks for itself. A natural accident, such as will happen now and then!”     I gave the matter no further consideration, and at my usual hour retired to bed. Here, having placed a candle upon a reading stand at the bed head, and having made an attempt to peruse some pages of the “Omnipresence of the Deity,” I unfortunately fell asleep in less than twenty seconds, leaving the light burning as it was.     My dreams were terrifically disturbed by visions of the Angel of the Odd. Methought he stood at the foot of the couch, drew aside the curtains, and, in the hollow, detestable tones of a rum puncheon, menaced me with the bitterest vengeance for the contempt with which I had treated him. He concluded a long harangue by taking off his funnel-cap, inserting the tube into my gullet, and thus deluging me with an ocean of Kirschenwässer, which he poured, in a continuous flood, from one of the long necked bottles that stood him instead of an arm. My agony was at length insufferable, and I awoke just in time to perceive that a rat had ran off with the lighted candle from the stand, but not in season to prevent his making his escape with it through the hole. Very soon, a strong suffocating odor assailed my nostrils; the house, I clearly perceived, was on fire. In a few minutes the blaze broke forth with violence, and in an incredibly brief period the entire building was wrapped in flames. All egress from my chamber, except through a window, was cut off. The crowd, however, quickly procured and raised a long ladder. By means of this I was descending rapidly, and in apparent safety, when a huge hog, about whose rotund stomach, and indeed about whose whole air and physiognomy, there was something which reminded me of the Angel of the Odd,—when this hog, I say, which hitherto had been quietly slumbering in the mud, took it suddenly into his head that his left shoulder needed scratching, and could find no more convenient rubbing-post than that afforded by the foot of the ladder. In an instant I was precipitated and had the misfortune to fracture my arm.     This accident, with the loss of my insurance, and with the more serious loss of my hair, the whole of which had been singed off by the fire, predisposed me to serious impressions, so that, finally, I made up my mind to take a wife. There was a rich widow disconsolate for the loss of her seventh husband, and to her wounded spirit I offered the balm of my vows. She yielded a reluctant consent to my prayers. I knelt at her feet in gratitude and adoration. She blushed and bowed her luxuriant tresses into close contact with those supplied me, temporarily, by Grandjean. I know not how the entanglement took place, but so it was. I arose with a shining pate, wigless; she in disdain and wrath, half buried in alien hair. Thus ended my hopes of the widow by an accident which could not have been anticipated, to be sure, but which the natural sequence of events had brought about.     Without despairing, however, I undertook the siege of a less implacable heart. The fates were again propitious for a brief period; but again a trivial incident interfered. Meeting my betrothed in an avenue thronged with the élite of the city, I was hastening to greet her with one of my best considered bows, when a small particle of some foreign matter, lodging in the corner of my eye, rendered me, for the moment, completely blind. Before I could recover my sight, the lady of my love had disappeared—irreparably affronted at what she chose to consider my premeditated rudeness in passing her by ungreeted. While I stood bewildered at the suddenness of this accident, (which might have happened, nevertheless, to any one under the sun), and while I still continued incapable of sight, I was accosted by the Angel of the Odd, who proffered me his aid with a civility which I had no reason to expect. He examined my disordered eye with much gentleness and skill, informed me that I had a drop in it, and (whatever a “drop” was) took it out, and afforded me relief.     I now considered it high time to die, (since fortune had so determined to persecute me,) and accordingly made my way to the nearest river. Here, divesting myself of my clothes, (for there is no reason why we cannot die as we were born), I threw myself headlong into the current; the sole witness of my fate being a solitary crow that had been seduced into the eating of brandy-saturated corn, and so had staggered away from his fellows. No sooner had I entered the water than this bird took it into its head to fly away with the most indispensable portion of my apparel. Postponing, therefore, for the present, my suicidal design, I just slipped my nether extremities into the sleeves of my coat, and betook myself to a pursuit of the felon with all the nimbleness which the case required and its circumstances would admit. But my evil destiny attended me still. As I ran at full speed, with my nose up in the atmosphere, and intent only upon the purloiner of my property, I suddenly perceived that my feet rested no longer upon terra-firma; the fact is, I had thrown myself over a precipice, and should inevitably have been dashed to pieces but for my good fortune in grasping the end of a long guide-rope, which depended from a passing balloon.     As soon as I sufficiently recovered my senses to comprehend the terrific predicament in which I stood or rather hung, I exerted all the power of my lungs to make that predicament known to the æronaut overhead. But for a long time I exerted myself in vain. Either the fool could not, or the villain would not perceive me. Meantime the machine rapidly soared, while my strength even more rapidly failed. I was soon upon the point of resigning myself to my fate, and dropping quietly into the sea, when my spirits were suddenly revived by hearing a hollow voice from above, which seemed to be lazily humming an opera air. Looking up, I perceived the Angel of the Odd. He was leaning with his arms folded, over the rim of the car; and with a pipe in his mouth, at which he puffed leisurely, seemed to be upon excellent terms with himself and the universe. I was too much exhausted to speak, so I merely regarded him with an imploring air.     For several minutes, although he looked me full in the face, he said nothing. At length removing carefully his meerschaum from the right to the left corner of his mouth, he condescended to speak.     “Who pe you,” he asked, “und what der teuffel you pe do dare?”     To this piece of impudence, cruelty and affectation, I could reply only by ejaculating the monosyllable “Help!”     “Elp!” echoed the ruffian—“not I. Dare iz te pottle—elp yourself, und pe tam’d!”     With these words he let fall a heavy bottle of Kirschenwasser which, dropping precisely upon the crown of my head, caused me to imagine that my brains were entirely knocked out. Impressed with this idea, I was about to relinquish my hold and give up the ghost with a good grace, when I was arrested by the cry of the Angel, who bade me hold on.     “Old on!” he said; “don’t pe in te urry—don’t. Will you pe take de odder pottle, or ave you pe got zober yet and come to your zenzes?”     I made haste, hereupon, to nod my head twice—once in the negative, meaning thereby that I would prefer not taking the other bottle at present—and once in the affirmative, intending thus to imply that I was sober and had positively come to my senses. By these means I somewhat softened the Angel.     “Und you pelief, ten,” he inquired, “at te last? You pelief, ten, in te possibilty of te odd?”     I again nodded my head in assent.     “Und you ave pelief in me, te Angel of te Odd?”     I nodded again.     “Und you acknowledge tat you pe te blind dronk and te vool?”     I nodded once more.     “Put your right hand into your left hand preeches pocket, ten, in token ov your vull zubmizzion unto te Angel ov te Odd.”     This thing, for very obvious reasons, I found it quite impossible to do. In the first place, my left arm had been broken in my fall from the ladder, and, therefore, had I let go my hold with the right hand, I must have let go altogether. In the second place, I could have no breeches until I came across the crow. I was therefore obliged, much to my regret, to shake my head in the negative—intending thus to give the Angel to understand that I found it inconvenient, just at that moment, to comply with his very reasonable demand! No sooner, however, had I ceased shaking my head than—     “Go to der teuffel, ten!” roared the Angel of the Odd.     In pronouncing these words, he drew a sharp knife across the guide-rope by which I was suspended, and as we then happened to be precisely over my own house, (which, during my peregrinations, had been handsomely rebuilt,) it so occurred that I tumbled headlong down the ample chimney and alit upon the dining-room hearth.     Upon coming to my senses, (for the fall had very thoroughly stunned me,) I found it about four o’clock in the morning. I lay outstretched where I had fallen from the balloon. My head grovelled in the ashes of an extinguished fire, while my feet reposed upon the wreck of a small table, overthrown, and amid the fragments of a miscellaneous dessert, intermingled with a newspaper, some broken glass and shattered bottles, and an empty jug of the Schiedam Kirschenwasser. Thus revenged himself the Angel of the Odd.     [Mabbott states that Griswold “obviously had a revised form” for use in the 1856 volume of Poe’s works. Mabbott does not substantiate this claim, but it is surely not unreasonable. An editor, and even typographical errors, may have produced nearly all of the very minor changes made in this version. (Indeed, two very necessary words were clearly dropped by accident.) An editor might have corrected “Wickliffe’s ‘Epigoniad’” to “Wilkie’s ‘Epigoniad’,” but is unlikely to have added “Tuckerman’s ‘Sicily’” to the list of books read by the narrator. Griswold was not above forgery (in Poe’s letters) when it suited his purpose, but would have too little to gain by such an effort in this instance.]'"
      ]
     },
     "metadata": {},
     "execution_count": 37
    }
   ],
   "metadata": {}
  },
  {
   "cell_type": "code",
   "execution_count": 43,
   "source": [
    "model.save('../models/whole_first_model')"
   ],
   "outputs": [
    {
     "output_type": "stream",
     "name": "stderr",
     "text": [
      "WARNING:absl:Found untraced functions such as lstm_cell_layer_call_fn, lstm_cell_layer_call_and_return_conditional_losses, lstm_cell_1_layer_call_fn, lstm_cell_1_layer_call_and_return_conditional_losses, lstm_cell_layer_call_fn while saving (showing 5 of 10). These functions will not be directly callable after loading.\n"
     ]
    },
    {
     "output_type": "stream",
     "name": "stdout",
     "text": [
      "INFO:tensorflow:Assets written to: ../models/whole_first_model/assets\n"
     ]
    },
    {
     "output_type": "stream",
     "name": "stderr",
     "text": [
      "INFO:tensorflow:Assets written to: ../models/whole_first_model/assets\n"
     ]
    }
   ],
   "metadata": {}
  },
  {
   "cell_type": "code",
   "execution_count": null,
   "source": [],
   "outputs": [],
   "metadata": {}
  }
 ],
 "metadata": {
  "interpreter": {
   "hash": "8f0d18fa402493471457a607d29128f0c62e1d9922055715c6c0929ae702655b"
  },
  "kernelspec": {
   "name": "python3",
   "display_name": "Python 3.8.5 64-bit ('base': conda)"
  },
  "language_info": {
   "codemirror_mode": {
    "name": "ipython",
    "version": 3
   },
   "file_extension": ".py",
   "mimetype": "text/x-python",
   "name": "python",
   "nbconvert_exporter": "python",
   "pygments_lexer": "ipython3",
   "version": "3.8.5"
  }
 },
 "nbformat": 4,
 "nbformat_minor": 2
}