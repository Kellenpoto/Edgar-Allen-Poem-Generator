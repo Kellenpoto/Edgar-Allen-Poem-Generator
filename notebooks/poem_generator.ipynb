{
 "cells": [
  {
   "cell_type": "code",
   "execution_count": 62,
   "source": [
    "import pandas as pd\n",
    "import numpy as np\n",
    "import matplotlib.pyplot as plt\n",
    "import tensorflow.keras as keras\n",
    "import tensorflow as tf\n",
    "tf.compat.v1.logging.set_verbosity(tf.compat.v1.logging.ERROR)\n",
    "import os\n",
    "os.chdir('..')\n",
    "from src import utils as ut\n",
    "os.chdir('notebooks')\n",
    "\n",
    "from tensorflow.keras.preprocessing.text import Tokenizer\n",
    "from tensorflow.keras.callbacks import EarlyStopping, ModelCheckpoint\n",
    "from tensorflow.keras.preprocessing.sequence import pad_sequences\n",
    "from tensorflow.keras.models import Sequential, save_model, load_model\n",
    "from tensorflow.keras.layers import Dropout, LSTM, Dense, Embedding"
   ],
   "outputs": [],
   "metadata": {}
  },
  {
   "cell_type": "code",
   "execution_count": 2,
   "source": [
    "texts = ut.load_text_data('../data/preprocessed_data.csv')"
   ],
   "outputs": [],
   "metadata": {}
  },
  {
   "cell_type": "code",
   "execution_count": 3,
   "source": [
    "tokens = ut.tokenize_texts(texts)\n",
    "num_words = len(ut.tokenizer.word_index) + 1"
   ],
   "outputs": [],
   "metadata": {}
  },
  {
   "cell_type": "code",
   "execution_count": 4,
   "source": [
    "encoded_characters, char_indices = ut.encode_characters(texts)"
   ],
   "outputs": [],
   "metadata": {}
  },
  {
   "cell_type": "code",
   "execution_count": 5,
   "source": [
    "from GPTJ.Basic_api import SimpleCompletion"
   ],
   "outputs": [],
   "metadata": {}
  },
  {
   "cell_type": "code",
   "execution_count": 24,
   "source": [
    "prompt = 'Once upon a midnight dreary, while I pondered, weak and weary,'\n",
    "temperature = 0.9\n",
    "top_probability = 1.0\n",
    "length = 20"
   ],
   "outputs": [],
   "metadata": {}
  },
  {
   "cell_type": "code",
   "execution_count": 25,
   "source": [
    "query = SimpleCompletion(prompt, length=length, t=temperature, top = top_probability)"
   ],
   "outputs": [],
   "metadata": {}
  },
  {
   "cell_type": "code",
   "execution_count": 39,
   "source": [
    "query.simple_completion()"
   ],
   "outputs": [
    {
     "output_type": "stream",
     "name": "stdout",
     "text": [
      "\n",
      "Over many a curious volume of forgotten lore,\n",
      "While I nodded, nearly napping, suddenly\n"
     ]
    },
    {
     "output_type": "execute_result",
     "data": {
      "text/plain": [
       "'\\nOver many a curious volume of forgotten lore,\\nWhile I nodded, nearly napping, suddenly'"
      ]
     },
     "metadata": {},
     "execution_count": 39
    }
   ],
   "metadata": {}
  },
  {
   "cell_type": "code",
   "execution_count": 59,
   "source": [
    "word_model_1 = ut.create_model(num_words, 20)\n",
    "word_model_1.load_weights('../models/first_model.h5')\n",
    "word_model_2 = ut.create_model(num_words, 20)\n",
    "word_model_2.load_weights('../models/epochs_0_to_10.h5')\n",
    "word_model_3 = ut.create_model(num_words, 20)\n",
    "word_model_3.load_weights('../models/epochs_10_to_20.h5')\n",
    "word_model_4 = ut.create_model(num_words, 20)\n",
    "word_model_4.load_weights('../models/epochs_20_to_50.h5')\n",
    "word_model_5 = ut.create_model(num_words, 20)\n",
    "word_model_5.load_weights('../models/epochs_50_to_100.h5')\n",
    "word_model_6 = ut.create_model(num_words, 20)\n",
    "word_model_6.load_weights('../models/epochs_100_to_200.h5')\n",
    "word_models = [word_model_1,word_model_2,word_model_3,word_model_4,word_model_5,word_model_6]"
   ],
   "outputs": [],
   "metadata": {}
  },
  {
   "cell_type": "code",
   "execution_count": 60,
   "source": [
    "for model in word_models:\n",
    "    ut.generate_poetry_words(prompt, 20, 1, model)"
   ],
   "outputs": [
    {
     "output_type": "stream",
     "name": "stdout",
     "text": [
      "changing in a few minutes ” says the captain difficult in my neck and as i pass the barrier in\n",
      "the most ghastly and loathsome most natural and most suitable forms we conceive yet borne ancient the agency of its\n",
      "the most ghastly and loathsome most natural and most suitable forms we conceive yet borne ancient the agency of its\n",
      "the most ghastly and loathsome most natural and most suitable forms we conceive yet borne ancient the agency of its\n",
      "the most ghastly and loathsome most natural and most suitable forms we conceive yet borne ancient the agency of its\n",
      "the most ghastly and loathsome most natural and most suitable forms we conceive yet borne ancient the agency of its\n"
     ]
    }
   ],
   "metadata": {}
  },
  {
   "cell_type": "code",
   "execution_count": 52,
   "source": [
    "ut.generate_poetry_words(prompt, 20, 1, word_model_1)"
   ],
   "outputs": [
    {
     "output_type": "stream",
     "name": "stdout",
     "text": [
      "changing in a few minutes ” says the captain difficult in my neck and as i pass the barrier in\n"
     ]
    }
   ],
   "metadata": {}
  },
  {
   "cell_type": "code",
   "execution_count": 38,
   "source": [
    "ut.generate_poetry_words(prompt, 20, 2, word_model_2)"
   ],
   "outputs": [
    {
     "output_type": "stream",
     "name": "stdout",
     "text": [
      "the most ghastly and loathsome most natural and most suitable forms we conceive yet borne ancient the agency of its\n",
      "northern pair of complexion and hung over up and cast and things the sun was about legs and in gold\n"
     ]
    }
   ],
   "metadata": {}
  },
  {
   "cell_type": "code",
   "execution_count": 30,
   "source": [
    "character_model_1 = load_model('../models/character_model_10_epochs.h5')\n",
    "character_model_2 = load_model('../models/character_model_20_epochs.h5')\n",
    "character_model_3 = load_model('../models/character_model_30_epochs.h5')"
   ],
   "outputs": [],
   "metadata": {}
  },
  {
   "cell_type": "code",
   "execution_count": 31,
   "source": [
    "models = [character_model_1, character_model_2, character_model_3]"
   ],
   "outputs": [],
   "metadata": {
    "scrolled": true
   }
  },
  {
   "cell_type": "code",
   "execution_count": 63,
   "source": [
    "for model in models:\n",
    "    ut.generate_poetry_characters(prompt, 100, 1, model, char_indices)"
   ],
   "outputs": [
    {
     "output_type": "stream",
     "name": "stdout",
     "text": [
      " and the strange of the strange of the strange of the strange of the strange of the strange of the s\n",
      " and the surface of the streats of the streats of the streats of the streats of the streats of the s\n",
      " and the surface of the state of the state of the state of the state of the state of the state of th\n"
     ]
    }
   ],
   "metadata": {}
  },
  {
   "cell_type": "code",
   "execution_count": null,
   "source": [],
   "outputs": [],
   "metadata": {}
  }
 ],
 "metadata": {
  "interpreter": {
   "hash": "8f0d18fa402493471457a607d29128f0c62e1d9922055715c6c0929ae702655b"
  },
  "kernelspec": {
   "name": "python3",
   "display_name": "Python 3.8.5 64-bit ('base': conda)"
  },
  "language_info": {
   "codemirror_mode": {
    "name": "ipython",
    "version": 3
   },
   "file_extension": ".py",
   "mimetype": "text/x-python",
   "name": "python",
   "nbconvert_exporter": "python",
   "pygments_lexer": "ipython3",
   "version": "3.8.5"
  }
 },
 "nbformat": 4,
 "nbformat_minor": 2
}