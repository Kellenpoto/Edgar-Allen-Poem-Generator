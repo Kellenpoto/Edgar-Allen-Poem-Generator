{
 "cells": [
  {
   "cell_type": "code",
   "execution_count": 1,
   "metadata": {},
   "outputs": [],
   "source": [
    "import pandas as pd\n",
    "import numpy as np\n",
    "import matplotlib.pyplot as plt\n",
    "import tensorflow.keras as keras\n",
    "import tensorflow as tf\n",
    "import os\n",
    "os.chdir('..')\n",
    "from src import utils as ut\n",
    "os.chdir('notebooks')\n",
    "\n",
    "from tensorflow.keras.preprocessing.text import Tokenizer\n",
    "from tensorflow.keras.callbacks import EarlyStopping, ModelCheckpoint\n",
    "from tensorflow.keras.preprocessing.sequence import pad_sequences\n",
    "from tensorflow.keras.models import Sequential, save_model, load_model\n",
    "from tensorflow.keras.layers import Dropout, LSTM, Dense, Embedding"
   ]
  },
  {
   "cell_type": "code",
   "execution_count": 2,
   "metadata": {},
   "outputs": [],
   "source": [
    "texts = ut.load_text_data('../data/preprocessed_data.csv')"
   ]
  },
  {
   "cell_type": "code",
   "execution_count": 3,
   "metadata": {},
   "outputs": [],
   "source": [
    "tokens = ut.tokenize_texts(texts)"
   ]
  },
  {
   "cell_type": "code",
   "execution_count": 4,
   "metadata": {},
   "outputs": [],
   "source": [
    "encoded_characters, char_indices = ut.encode_characters(texts)"
   ]
  },
  {
   "cell_type": "code",
   "execution_count": 5,
   "metadata": {},
   "outputs": [],
   "source": [
    "from GPTJ.Basic_api import SimpleCompletion"
   ]
  },
  {
   "cell_type": "code",
   "execution_count": 6,
   "metadata": {},
   "outputs": [],
   "source": [
    "prompt = 'I felt a Funeral, in my Brain, And Mourners to and fro Kept treading - treading - till it seemed'\n",
    "temperature = 0.9\n",
    "top_probability = 1.0\n",
    "length = 20"
   ]
  },
  {
   "cell_type": "code",
   "execution_count": 7,
   "metadata": {},
   "outputs": [],
   "source": [
    "query = SimpleCompletion(prompt, length=length, t=temperature, top = top_probability)"
   ]
  },
  {
   "cell_type": "code",
   "execution_count": 8,
   "metadata": {},
   "outputs": [
    {
     "name": "stdout",
     "output_type": "stream",
     "text": [
      " to me A Haunted House!\n",
      "\n",
      "Thomas Hardy\n",
      "\n",
      "It was the most tragic thing in Roger\n",
      " to me A Haunted House!\n",
      "\n",
      "Thomas Hardy\n",
      "\n",
      "It was the most tragic thing in Roger\n"
     ]
    }
   ],
   "source": [
    "print(query.simple_completion())"
   ]
  },
  {
   "cell_type": "code",
   "execution_count": 25,
   "metadata": {},
   "outputs": [],
   "source": [
    "model = ut.create_model(num_words, 20)"
   ]
  },
  {
   "cell_type": "code",
   "execution_count": 26,
   "metadata": {},
   "outputs": [],
   "source": [
    "model.load_weights('../models/first_model.h5')"
   ]
  },
  {
   "cell_type": "code",
   "execution_count": 27,
   "metadata": {},
   "outputs": [
    {
     "name": "stdout",
     "output_type": "stream",
     "text": [
      "Model: \"sequential_1\"\n",
      "_________________________________________________________________\n",
      "Layer (type)                 Output Shape              Param #   \n",
      "=================================================================\n",
      "embedding_1 (Embedding)      (None, 20, 128)           3171200   \n",
      "_________________________________________________________________\n",
      "lstm_2 (LSTM)                (None, 20, 128)           131584    \n",
      "_________________________________________________________________\n",
      "dropout_2 (Dropout)          (None, 20, 128)           0         \n",
      "_________________________________________________________________\n",
      "lstm_3 (LSTM)                (None, 128)               131584    \n",
      "_________________________________________________________________\n",
      "dropout_3 (Dropout)          (None, 128)               0         \n",
      "_________________________________________________________________\n",
      "dense_1 (Dense)              (None, 24775)             3195975   \n",
      "=================================================================\n",
      "Total params: 6,630,343\n",
      "Trainable params: 6,630,343\n",
      "Non-trainable params: 0\n",
      "_________________________________________________________________\n"
     ]
    }
   ],
   "source": [
    "model.summary()"
   ]
  },
  {
   "cell_type": "code",
   "execution_count": 28,
   "metadata": {},
   "outputs": [
    {
     "name": "stdout",
     "output_type": "stream",
     "text": [
      "that i thought alone at the attacks of human violence and the fiercer fury of the waters and the winds\n",
      "i observed in the possession of the advertisers and who cannot furnish the most satisfactory testimonials of morality young gentlemen\n"
     ]
    }
   ],
   "source": [
    "ut.generate_poetry_words(prompt, 20, 2, model)"
   ]
  },
  {
   "cell_type": "code",
   "execution_count": 51,
   "metadata": {},
   "outputs": [],
   "source": [
    "character_model = load_model('../models/character_model_30_epochs.h5')"
   ]
  },
  {
   "cell_type": "code",
   "execution_count": 52,
   "metadata": {
    "scrolled": true
   },
   "outputs": [
    {
     "name": "stdout",
     "output_type": "stream",
     "text": [
      "Model: \"sequential\"\n",
      "_________________________________________________________________\n",
      "Layer (type)                 Output Shape              Param #   \n",
      "=================================================================\n",
      "embedding (Embedding)        (None, 100, 128)          13184     \n",
      "_________________________________________________________________\n",
      "lstm (LSTM)                  (None, 100, 128)          131584    \n",
      "_________________________________________________________________\n",
      "dropout (Dropout)            (None, 100, 128)          0         \n",
      "_________________________________________________________________\n",
      "lstm_1 (LSTM)                (None, 128)               131584    \n",
      "_________________________________________________________________\n",
      "dropout_1 (Dropout)          (None, 128)               0         \n",
      "_________________________________________________________________\n",
      "dense (Dense)                (None, 103)               13287     \n",
      "=================================================================\n",
      "Total params: 289,639\n",
      "Trainable params: 289,639\n",
      "Non-trainable params: 0\n",
      "_________________________________________________________________\n"
     ]
    }
   ],
   "source": [
    "character_model.summary()"
   ]
  },
  {
   "cell_type": "code",
   "execution_count": 55,
   "metadata": {},
   "outputs": [],
   "source": [
    "def generate_poetry_characters(seed_text, poetry_length, n_lines, model, char_indices):\n",
    "  for i in range(n_lines):\n",
    "    text = []\n",
    "    for _ in range(poetry_length):\n",
    "      seed = [char for char in seed_text]\n",
    "      encoded_seed = [char_indices[char] for char in seed]\n",
    "      if len(encoded_seed) < 100:\n",
    "        for j in range(99-len(encoded_seed)):\n",
    "          encoded_seed.insert(0,0)\n",
    "      \n",
    "      y_pred = np.argmax(model.predict([encoded_seed]), axis=-1)\n",
    "      \n",
    "      predicted_character = \"\"\n",
    "      for character, index in char_indices.items():\n",
    "        if index == y_pred:\n",
    "          predicted_character = character\n",
    "          break\n",
    "\n",
    "      seed_text = seed_text + predicted_character\n",
    "      text.append(predicted_character)\n",
    "\n",
    "    seed_text = text[-1]\n",
    "    text = ''.join(text)\n",
    "    print(text)"
   ]
  },
  {
   "cell_type": "code",
   "execution_count": 56,
   "metadata": {
    "scrolled": true
   },
   "outputs": [
    {
     "name": "stdout",
     "output_type": "stream",
     "text": [
      " to the street of the streets of the streets of th\n",
      "eus. The sense of the state of the state of the st\n"
     ]
    }
   ],
   "source": [
    "generate_poetry_characters(prompt, 50, 2, character_model, char_indices)"
   ]
  },
  {
   "cell_type": "code",
   "execution_count": null,
   "metadata": {},
   "outputs": [],
   "source": []
  }
 ],
 "metadata": {
  "interpreter": {
   "hash": "8f0d18fa402493471457a607d29128f0c62e1d9922055715c6c0929ae702655b"
  },
  "kernelspec": {
   "display_name": "Python 3",
   "language": "python",
   "name": "python3"
  },
  "language_info": {
   "codemirror_mode": {
    "name": "ipython",
    "version": 3
   },
   "file_extension": ".py",
   "mimetype": "text/x-python",
   "name": "python",
   "nbconvert_exporter": "python",
   "pygments_lexer": "ipython3",
   "version": "3.8.10"
  }
 },
 "nbformat": 4,
 "nbformat_minor": 2
}
