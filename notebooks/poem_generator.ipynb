{
 "cells": [
  {
   "cell_type": "code",
   "execution_count": 71,
   "source": [
    "import pandas as pd\n",
    "import numpy as np\n",
    "import matplotlib.pyplot as plt\n",
    "import tensorflow.keras as keras\n",
    "import tensorflow as tf\n",
    "\n",
    "from tensorflow.keras.preprocessing.text import Tokenizer\n",
    "from tensorflow.keras.callbacks import EarlyStopping, ModelCheckpoint\n",
    "from tensorflow.keras.preprocessing.sequence import pad_sequences\n",
    "from tensorflow.keras.models import Sequential\n",
    "from tensorflow.keras.layers import Dropout, LSTM, Dense, Embedding"
   ],
   "outputs": [],
   "metadata": {}
  },
  {
   "cell_type": "code",
   "execution_count": 12,
   "source": [
    "data = pd.read_csv('../data/preprocessed_data.csv')\n",
    "text = data['text']"
   ],
   "outputs": [],
   "metadata": {}
  },
  {
   "cell_type": "code",
   "execution_count": 13,
   "source": [
    "tokenizer = Tokenizer()\n",
    "tokenizer.fit_on_texts(text)\n",
    "encoded_texts = tokenizer.texts_to_sequences(text)\n",
    "num_words = len(tokenizer.index_word) + 1"
   ],
   "outputs": [],
   "metadata": {}
  },
  {
   "cell_type": "code",
   "execution_count": 14,
   "source": [
    "from GPTJ.Basic_api import SimpleCompletion"
   ],
   "outputs": [],
   "metadata": {}
  },
  {
   "cell_type": "code",
   "execution_count": 74,
   "source": [
    "prompt = 'I felt a Funeral, in my Brain, And Mourners to and fro Kept treading - treading - till it seemed'\n",
    "temperature = 0.9\n",
    "top_probability = 1.0\n",
    "length = 20"
   ],
   "outputs": [],
   "metadata": {}
  },
  {
   "cell_type": "code",
   "execution_count": 75,
   "source": [
    "query = SimpleCompletion(prompt, length=length, t=temperature, top = top_probability)"
   ],
   "outputs": [],
   "metadata": {}
  },
  {
   "cell_type": "code",
   "execution_count": 21,
   "source": [
    "n_prev=20"
   ],
   "outputs": [],
   "metadata": {}
  },
  {
   "cell_type": "code",
   "execution_count": 22,
   "source": [
    "model = keras.Sequential()\n",
    "model.add(Embedding(num_words, 128, input_length=n_prev))\n",
    "model.add(LSTM(128, input_shape=(n_prev,1), return_sequences=True))\n",
    "# model.add(Dropout(.2))\n",
    "model.add(LSTM(128))\n",
    "# model.add(Dropout(.2))\n",
    "model.add(Dense(num_words, activation='softmax'))\n",
    "model.compile(loss='categorical_crossentropy', optimizer='adam', metrics='accuracy')"
   ],
   "outputs": [],
   "metadata": {}
  },
  {
   "cell_type": "code",
   "execution_count": 58,
   "source": [
    "model.load_weights('../models/first_model.h5')"
   ],
   "outputs": [],
   "metadata": {}
  },
  {
   "cell_type": "code",
   "execution_count": 67,
   "source": [
    "poetry_length = 10\n",
    "def generate_poetry(seed_text, n_lines):\n",
    "  for i in range(n_lines):\n",
    "    text = []\n",
    "    for _ in range(poetry_length):\n",
    "      encoded = tokenizer.texts_to_sequences([seed_text])\n",
    "      encoded = pad_sequences(encoded, maxlen=20, padding='pre')\n",
    "\n",
    "      y_pred = np.argmax(model.predict(encoded), axis=-1)\n",
    "\n",
    "      predicted_word = \"\"\n",
    "      for word, index in tokenizer.word_index.items():\n",
    "        if index == y_pred:\n",
    "          predicted_word = word\n",
    "          break\n",
    "\n",
    "      seed_text = seed_text + ' ' + predicted_word\n",
    "      text.append(predicted_word)\n",
    "\n",
    "    seed_text = text[-1]\n",
    "    text = ' '.join(text)\n",
    "    print(text)"
   ],
   "outputs": [],
   "metadata": {}
  },
  {
   "cell_type": "code",
   "execution_count": 79,
   "source": [
    "prompt"
   ],
   "outputs": [
    {
     "output_type": "execute_result",
     "data": {
      "text/plain": [
       "'I felt a Funeral, in my Brain, And Mourners to and fro Kept treading - treading - till it seemed'"
      ]
     },
     "metadata": {},
     "execution_count": 79
    }
   ],
   "metadata": {}
  },
  {
   "cell_type": "code",
   "execution_count": 76,
   "source": [
    "generate_poetry(prompt, 3)"
   ],
   "outputs": [
    {
     "output_type": "stream",
     "name": "stdout",
     "text": [
      "that i thought alone at the attacks of human violence\n",
      "and this part for the stream and borne this time\n",
      "and way i say i now began to class it\n"
     ]
    }
   ],
   "metadata": {}
  },
  {
   "cell_type": "code",
   "execution_count": 77,
   "source": [
    "result = query.simple_completion()"
   ],
   "outputs": [
    {
     "output_type": "stream",
     "name": "stdout",
     "text": [
      " I was to die.(April 28, 1855).\n",
      "\n",
      "During the period covered by these decades\n"
     ]
    }
   ],
   "metadata": {}
  },
  {
   "cell_type": "code",
   "execution_count": null,
   "source": [],
   "outputs": [],
   "metadata": {}
  }
 ],
 "metadata": {
  "orig_nbformat": 4,
  "language_info": {
   "name": "python",
   "version": "3.8.5",
   "mimetype": "text/x-python",
   "codemirror_mode": {
    "name": "ipython",
    "version": 3
   },
   "pygments_lexer": "ipython3",
   "nbconvert_exporter": "python",
   "file_extension": ".py"
  },
  "kernelspec": {
   "name": "python3",
   "display_name": "Python 3.8.5 64-bit ('base': conda)"
  },
  "interpreter": {
   "hash": "8f0d18fa402493471457a607d29128f0c62e1d9922055715c6c0929ae702655b"
  }
 },
 "nbformat": 4,
 "nbformat_minor": 2
}